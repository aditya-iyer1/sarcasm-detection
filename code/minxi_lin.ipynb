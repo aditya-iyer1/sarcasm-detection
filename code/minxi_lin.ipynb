{
 "cells": [
  {
   "cell_type": "code",
   "execution_count": null,
   "metadata": {
    "vscode": {
     "languageId": "plaintext"
    }
   },
   "outputs": [],
   "source": [
    "import json\n",
    "\n",
    "def parse_data(file):\n",
    "    for l in open(file, 'r'):\n",
    "        yield json.loads(l)\n",
    "\n",
    "data = list(parse_data('../data/Sarcasm_Headlines_Dataset_v2.json'))"
   ]
  }
 ],
 "metadata": {
  "language_info": {
   "name": "python"
  }
 },
 "nbformat": 4,
 "nbformat_minor": 2
}
